{
 "cells": [
  {
   "cell_type": "markdown",
   "id": "8c4adeaa-b592-4a4d-b3a1-94d4c45cf1f1",
   "metadata": {},
   "source": [
    "**IMPORTING CAR VIOLATIONS IN GREECE FROM 2014-2019**"
   ]
  },
  {
   "cell_type": "code",
   "execution_count": 1,
   "id": "3292b6c6-401e-42b5-89e6-ca0f051ef520",
   "metadata": {},
   "outputs": [],
   "source": [
    "import requests\n",
    "import pandas as pd\n",
    "# API URL\n",
    "url = 'https://data.gov.gr/api/v1/query/mcp_traffic_accidents'\n",
    "\n",
    "# Fetch data from API\n",
    "response = requests.get(url)\n",
    "data2 = response.json()\n",
    "\n",
    "# Convert to DataFrame\n",
    "accidents_df = pd.DataFrame(data2)\n",
    "\n",
    "# Export DataFrame to CSV\n",
    "accidents_df.to_csv('traffic_accidents.csv', index=False, encoding='utf-8-sig')"
   ]
  }
 ],
 "metadata": {
  "kernelspec": {
   "display_name": "Python 3 (ipykernel)",
   "language": "python",
   "name": "python3"
  },
  "language_info": {
   "codemirror_mode": {
    "name": "ipython",
    "version": 3
   },
   "file_extension": ".py",
   "mimetype": "text/x-python",
   "name": "python",
   "nbconvert_exporter": "python",
   "pygments_lexer": "ipython3",
   "version": "3.13.1"
  }
 },
 "nbformat": 4,
 "nbformat_minor": 5
}
